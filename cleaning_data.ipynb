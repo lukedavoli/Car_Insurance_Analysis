{
 "cells": [
  {
   "cell_type": "markdown",
   "metadata": {},
   "source": [
    "## Data Cleaning and Wrangling"
   ]
  },
  {
   "cell_type": "code",
   "execution_count": 1,
   "metadata": {},
   "outputs": [],
   "source": [
    "import pandas as pd\n",
    "\n",
    "df_quotes = pd.read_csv('data/quotes.csv', na_values='nan')\n",
    "df_ppl = pd.read_csv('data/people.csv', index_col='person_id')\n"
   ]
  },
  {
   "cell_type": "code",
   "execution_count": 2,
   "metadata": {},
   "outputs": [
    {
     "output_type": "execute_result",
     "data": {
      "text/plain": "   person_id  car_id  budd_quote  hudd_quote  wool_quote  real_quote\n0          1       1      3845.0      4120.0      3356.0      3555.0\n1          1       2      6191.0      5408.0      4989.0      5285.0\n2          1       3         NaN      8134.0      6841.0      7246.0\n3          1       4         NaN      6005.0      5327.0      5643.0\n4          1       5      3778.0      3822.0      4359.0      4617.0\n5          1       6      5859.0      3536.0      3402.0      3603.0\n6          1       7      3770.0      2847.0      2661.0      2818.0\n7          1       8      4527.0      3703.0      2985.0      3162.0\n8          1       9      4106.0      2897.0      2704.0      2864.0\n9          1      10         NaN         NaN         NaN         NaN",
      "text/html": "<div>\n<style scoped>\n    .dataframe tbody tr th:only-of-type {\n        vertical-align: middle;\n    }\n\n    .dataframe tbody tr th {\n        vertical-align: top;\n    }\n\n    .dataframe thead th {\n        text-align: right;\n    }\n</style>\n<table border=\"1\" class=\"dataframe\">\n  <thead>\n    <tr style=\"text-align: right;\">\n      <th></th>\n      <th>person_id</th>\n      <th>car_id</th>\n      <th>budd_quote</th>\n      <th>hudd_quote</th>\n      <th>wool_quote</th>\n      <th>real_quote</th>\n    </tr>\n  </thead>\n  <tbody>\n    <tr>\n      <th>0</th>\n      <td>1</td>\n      <td>1</td>\n      <td>3845.0</td>\n      <td>4120.0</td>\n      <td>3356.0</td>\n      <td>3555.0</td>\n    </tr>\n    <tr>\n      <th>1</th>\n      <td>1</td>\n      <td>2</td>\n      <td>6191.0</td>\n      <td>5408.0</td>\n      <td>4989.0</td>\n      <td>5285.0</td>\n    </tr>\n    <tr>\n      <th>2</th>\n      <td>1</td>\n      <td>3</td>\n      <td>NaN</td>\n      <td>8134.0</td>\n      <td>6841.0</td>\n      <td>7246.0</td>\n    </tr>\n    <tr>\n      <th>3</th>\n      <td>1</td>\n      <td>4</td>\n      <td>NaN</td>\n      <td>6005.0</td>\n      <td>5327.0</td>\n      <td>5643.0</td>\n    </tr>\n    <tr>\n      <th>4</th>\n      <td>1</td>\n      <td>5</td>\n      <td>3778.0</td>\n      <td>3822.0</td>\n      <td>4359.0</td>\n      <td>4617.0</td>\n    </tr>\n    <tr>\n      <th>5</th>\n      <td>1</td>\n      <td>6</td>\n      <td>5859.0</td>\n      <td>3536.0</td>\n      <td>3402.0</td>\n      <td>3603.0</td>\n    </tr>\n    <tr>\n      <th>6</th>\n      <td>1</td>\n      <td>7</td>\n      <td>3770.0</td>\n      <td>2847.0</td>\n      <td>2661.0</td>\n      <td>2818.0</td>\n    </tr>\n    <tr>\n      <th>7</th>\n      <td>1</td>\n      <td>8</td>\n      <td>4527.0</td>\n      <td>3703.0</td>\n      <td>2985.0</td>\n      <td>3162.0</td>\n    </tr>\n    <tr>\n      <th>8</th>\n      <td>1</td>\n      <td>9</td>\n      <td>4106.0</td>\n      <td>2897.0</td>\n      <td>2704.0</td>\n      <td>2864.0</td>\n    </tr>\n    <tr>\n      <th>9</th>\n      <td>1</td>\n      <td>10</td>\n      <td>NaN</td>\n      <td>NaN</td>\n      <td>NaN</td>\n      <td>NaN</td>\n    </tr>\n  </tbody>\n</table>\n</div>"
     },
     "metadata": {},
     "execution_count": 2
    }
   ],
   "source": [
    "df_quotes.head(10)"
   ]
  },
  {
   "cell_type": "code",
   "execution_count": 3,
   "metadata": {},
   "outputs": [
    {
     "output_type": "execute_result",
     "data": {
      "text/plain": "                name  age  gender\nperson_id                        \n105        Christine   63  female\n68             Randy   41    male\n99           Shannon   60  female\n1                Pam   18  female\n141         Christal   86  female",
      "text/html": "<div>\n<style scoped>\n    .dataframe tbody tr th:only-of-type {\n        vertical-align: middle;\n    }\n\n    .dataframe tbody tr th {\n        vertical-align: top;\n    }\n\n    .dataframe thead th {\n        text-align: right;\n    }\n</style>\n<table border=\"1\" class=\"dataframe\">\n  <thead>\n    <tr style=\"text-align: right;\">\n      <th></th>\n      <th>name</th>\n      <th>age</th>\n      <th>gender</th>\n    </tr>\n    <tr>\n      <th>person_id</th>\n      <th></th>\n      <th></th>\n      <th></th>\n    </tr>\n  </thead>\n  <tbody>\n    <tr>\n      <th>105</th>\n      <td>Christine</td>\n      <td>63</td>\n      <td>female</td>\n    </tr>\n    <tr>\n      <th>68</th>\n      <td>Randy</td>\n      <td>41</td>\n      <td>male</td>\n    </tr>\n    <tr>\n      <th>99</th>\n      <td>Shannon</td>\n      <td>60</td>\n      <td>female</td>\n    </tr>\n    <tr>\n      <th>1</th>\n      <td>Pam</td>\n      <td>18</td>\n      <td>female</td>\n    </tr>\n    <tr>\n      <th>141</th>\n      <td>Christal</td>\n      <td>86</td>\n      <td>female</td>\n    </tr>\n  </tbody>\n</table>\n</div>"
     },
     "metadata": {},
     "execution_count": 3
    }
   ],
   "source": [
    "df_ppl.sample(5)"
   ]
  },
  {
   "cell_type": "markdown",
   "metadata": {},
   "source": [
    "Remove the car with id 10, too many missing values"
   ]
  },
  {
   "cell_type": "code",
   "execution_count": 4,
   "metadata": {},
   "outputs": [
    {
     "output_type": "execute_result",
     "data": {
      "text/plain": "    person_id  car_id  budd_quote  hudd_quote  wool_quote  real_quote\n0           1       1      3845.0      4120.0      3356.0      3555.0\n1           1       2      6191.0      5408.0      4989.0      5285.0\n2           1       3         NaN      8134.0      6841.0      7246.0\n3           1       4         NaN      6005.0      5327.0      5643.0\n4           1       5      3778.0      3822.0      4359.0      4617.0\n5           1       6      5859.0      3536.0      3402.0      3603.0\n6           1       7      3770.0      2847.0      2661.0      2818.0\n7           1       8      4527.0      3703.0      2985.0      3162.0\n8           1       9      4106.0      2897.0      2704.0      2864.0\n10          2       1      3740.0      5446.0      4171.0      4415.0",
      "text/html": "<div>\n<style scoped>\n    .dataframe tbody tr th:only-of-type {\n        vertical-align: middle;\n    }\n\n    .dataframe tbody tr th {\n        vertical-align: top;\n    }\n\n    .dataframe thead th {\n        text-align: right;\n    }\n</style>\n<table border=\"1\" class=\"dataframe\">\n  <thead>\n    <tr style=\"text-align: right;\">\n      <th></th>\n      <th>person_id</th>\n      <th>car_id</th>\n      <th>budd_quote</th>\n      <th>hudd_quote</th>\n      <th>wool_quote</th>\n      <th>real_quote</th>\n    </tr>\n  </thead>\n  <tbody>\n    <tr>\n      <th>0</th>\n      <td>1</td>\n      <td>1</td>\n      <td>3845.0</td>\n      <td>4120.0</td>\n      <td>3356.0</td>\n      <td>3555.0</td>\n    </tr>\n    <tr>\n      <th>1</th>\n      <td>1</td>\n      <td>2</td>\n      <td>6191.0</td>\n      <td>5408.0</td>\n      <td>4989.0</td>\n      <td>5285.0</td>\n    </tr>\n    <tr>\n      <th>2</th>\n      <td>1</td>\n      <td>3</td>\n      <td>NaN</td>\n      <td>8134.0</td>\n      <td>6841.0</td>\n      <td>7246.0</td>\n    </tr>\n    <tr>\n      <th>3</th>\n      <td>1</td>\n      <td>4</td>\n      <td>NaN</td>\n      <td>6005.0</td>\n      <td>5327.0</td>\n      <td>5643.0</td>\n    </tr>\n    <tr>\n      <th>4</th>\n      <td>1</td>\n      <td>5</td>\n      <td>3778.0</td>\n      <td>3822.0</td>\n      <td>4359.0</td>\n      <td>4617.0</td>\n    </tr>\n    <tr>\n      <th>5</th>\n      <td>1</td>\n      <td>6</td>\n      <td>5859.0</td>\n      <td>3536.0</td>\n      <td>3402.0</td>\n      <td>3603.0</td>\n    </tr>\n    <tr>\n      <th>6</th>\n      <td>1</td>\n      <td>7</td>\n      <td>3770.0</td>\n      <td>2847.0</td>\n      <td>2661.0</td>\n      <td>2818.0</td>\n    </tr>\n    <tr>\n      <th>7</th>\n      <td>1</td>\n      <td>8</td>\n      <td>4527.0</td>\n      <td>3703.0</td>\n      <td>2985.0</td>\n      <td>3162.0</td>\n    </tr>\n    <tr>\n      <th>8</th>\n      <td>1</td>\n      <td>9</td>\n      <td>4106.0</td>\n      <td>2897.0</td>\n      <td>2704.0</td>\n      <td>2864.0</td>\n    </tr>\n    <tr>\n      <th>10</th>\n      <td>2</td>\n      <td>1</td>\n      <td>3740.0</td>\n      <td>5446.0</td>\n      <td>4171.0</td>\n      <td>4415.0</td>\n    </tr>\n  </tbody>\n</table>\n</div>"
     },
     "metadata": {},
     "execution_count": 4
    }
   ],
   "source": [
    "car10_fltr = (df_quotes['car_id'] == 10)\n",
    "df_quotes.drop(index=df_quotes[car10_fltr].index, inplace=True)\n",
    "df_quotes.head(10)"
   ]
  },
  {
   "cell_type": "markdown",
   "metadata": {},
   "source": [
    "Join people and quotes dataframes"
   ]
  },
  {
   "cell_type": "code",
   "execution_count": 5,
   "metadata": {},
   "outputs": [
    {
     "output_type": "execute_result",
     "data": {
      "text/plain": "      person_id      name  age  gender  car_id  budd_quote  hudd_quote  \\\n759          85   Allison   52  female       4      1291.0      1768.0   \n1390        155     Erika   94  female       5      1909.0      2207.0   \n714          80    Marvin   48    male       4      1322.0      1835.0   \n1066        119     Diana   72  female       5       956.0      1146.0   \n545          61  Michelle   38  female       6      1047.0      1153.0   \n347          39      Joan   24  female       6      1317.0      1818.0   \n\n      wool_quote  real_quote  \n759       1967.0      2088.0  \n1390      3044.0      3224.0  \n714       2088.0      2216.0  \n1066      1627.0      1727.0  \n545       1484.0      1574.0  \n347       2137.0      2266.0  ",
      "text/html": "<div>\n<style scoped>\n    .dataframe tbody tr th:only-of-type {\n        vertical-align: middle;\n    }\n\n    .dataframe tbody tr th {\n        vertical-align: top;\n    }\n\n    .dataframe thead th {\n        text-align: right;\n    }\n</style>\n<table border=\"1\" class=\"dataframe\">\n  <thead>\n    <tr style=\"text-align: right;\">\n      <th></th>\n      <th>person_id</th>\n      <th>name</th>\n      <th>age</th>\n      <th>gender</th>\n      <th>car_id</th>\n      <th>budd_quote</th>\n      <th>hudd_quote</th>\n      <th>wool_quote</th>\n      <th>real_quote</th>\n    </tr>\n  </thead>\n  <tbody>\n    <tr>\n      <th>759</th>\n      <td>85</td>\n      <td>Allison</td>\n      <td>52</td>\n      <td>female</td>\n      <td>4</td>\n      <td>1291.0</td>\n      <td>1768.0</td>\n      <td>1967.0</td>\n      <td>2088.0</td>\n    </tr>\n    <tr>\n      <th>1390</th>\n      <td>155</td>\n      <td>Erika</td>\n      <td>94</td>\n      <td>female</td>\n      <td>5</td>\n      <td>1909.0</td>\n      <td>2207.0</td>\n      <td>3044.0</td>\n      <td>3224.0</td>\n    </tr>\n    <tr>\n      <th>714</th>\n      <td>80</td>\n      <td>Marvin</td>\n      <td>48</td>\n      <td>male</td>\n      <td>4</td>\n      <td>1322.0</td>\n      <td>1835.0</td>\n      <td>2088.0</td>\n      <td>2216.0</td>\n    </tr>\n    <tr>\n      <th>1066</th>\n      <td>119</td>\n      <td>Diana</td>\n      <td>72</td>\n      <td>female</td>\n      <td>5</td>\n      <td>956.0</td>\n      <td>1146.0</td>\n      <td>1627.0</td>\n      <td>1727.0</td>\n    </tr>\n    <tr>\n      <th>545</th>\n      <td>61</td>\n      <td>Michelle</td>\n      <td>38</td>\n      <td>female</td>\n      <td>6</td>\n      <td>1047.0</td>\n      <td>1153.0</td>\n      <td>1484.0</td>\n      <td>1574.0</td>\n    </tr>\n    <tr>\n      <th>347</th>\n      <td>39</td>\n      <td>Joan</td>\n      <td>24</td>\n      <td>female</td>\n      <td>6</td>\n      <td>1317.0</td>\n      <td>1818.0</td>\n      <td>2137.0</td>\n      <td>2266.0</td>\n    </tr>\n  </tbody>\n</table>\n</div>"
     },
     "metadata": {},
     "execution_count": 5
    }
   ],
   "source": [
    "df = pd.merge(left=df_ppl, right=df_quotes, on='person_id')\n",
    "df.sample(6)"
   ]
  },
  {
   "cell_type": "markdown",
   "metadata": {},
   "source": [
    "Get the average quote per driver and car combination"
   ]
  },
  {
   "cell_type": "code",
   "execution_count": 6,
   "metadata": {},
   "outputs": [
    {
     "output_type": "execute_result",
     "data": {
      "text/plain": "      person_id      name  age  gender  car_id  budd_quote  hudd_quote  \\\n1264        141  Christal   86  female       5      1536.0      1851.0   \n1029        115     Zulma   69  female       4      1357.0      1618.0   \n1205        134    Rodney   81    male       9      1337.0      1147.0   \n1401        156     David   94    male       7      1655.0      1766.0   \n1271        142     Allen   86    male       3      2191.0      3141.0   \n341          38    Wilson   22    male       9      1219.0         NaN   \n\n      wool_quote  real_quote  mean_quote_percar  \n1264      2907.0      3080.0            2343.50  \n1029      1911.0      2006.0            1723.00  \n1205      1434.0      1507.0            1356.25  \n1401      1751.0      1855.0            1756.75  \n1271      4341.0      4599.0            3568.00  \n341       2043.0      2165.0            1809.00  ",
      "text/html": "<div>\n<style scoped>\n    .dataframe tbody tr th:only-of-type {\n        vertical-align: middle;\n    }\n\n    .dataframe tbody tr th {\n        vertical-align: top;\n    }\n\n    .dataframe thead th {\n        text-align: right;\n    }\n</style>\n<table border=\"1\" class=\"dataframe\">\n  <thead>\n    <tr style=\"text-align: right;\">\n      <th></th>\n      <th>person_id</th>\n      <th>name</th>\n      <th>age</th>\n      <th>gender</th>\n      <th>car_id</th>\n      <th>budd_quote</th>\n      <th>hudd_quote</th>\n      <th>wool_quote</th>\n      <th>real_quote</th>\n      <th>mean_quote_percar</th>\n    </tr>\n  </thead>\n  <tbody>\n    <tr>\n      <th>1264</th>\n      <td>141</td>\n      <td>Christal</td>\n      <td>86</td>\n      <td>female</td>\n      <td>5</td>\n      <td>1536.0</td>\n      <td>1851.0</td>\n      <td>2907.0</td>\n      <td>3080.0</td>\n      <td>2343.50</td>\n    </tr>\n    <tr>\n      <th>1029</th>\n      <td>115</td>\n      <td>Zulma</td>\n      <td>69</td>\n      <td>female</td>\n      <td>4</td>\n      <td>1357.0</td>\n      <td>1618.0</td>\n      <td>1911.0</td>\n      <td>2006.0</td>\n      <td>1723.00</td>\n    </tr>\n    <tr>\n      <th>1205</th>\n      <td>134</td>\n      <td>Rodney</td>\n      <td>81</td>\n      <td>male</td>\n      <td>9</td>\n      <td>1337.0</td>\n      <td>1147.0</td>\n      <td>1434.0</td>\n      <td>1507.0</td>\n      <td>1356.25</td>\n    </tr>\n    <tr>\n      <th>1401</th>\n      <td>156</td>\n      <td>David</td>\n      <td>94</td>\n      <td>male</td>\n      <td>7</td>\n      <td>1655.0</td>\n      <td>1766.0</td>\n      <td>1751.0</td>\n      <td>1855.0</td>\n      <td>1756.75</td>\n    </tr>\n    <tr>\n      <th>1271</th>\n      <td>142</td>\n      <td>Allen</td>\n      <td>86</td>\n      <td>male</td>\n      <td>3</td>\n      <td>2191.0</td>\n      <td>3141.0</td>\n      <td>4341.0</td>\n      <td>4599.0</td>\n      <td>3568.00</td>\n    </tr>\n    <tr>\n      <th>341</th>\n      <td>38</td>\n      <td>Wilson</td>\n      <td>22</td>\n      <td>male</td>\n      <td>9</td>\n      <td>1219.0</td>\n      <td>NaN</td>\n      <td>2043.0</td>\n      <td>2165.0</td>\n      <td>1809.00</td>\n    </tr>\n  </tbody>\n</table>\n</div>"
     },
     "metadata": {},
     "execution_count": 6
    }
   ],
   "source": [
    "quotes_cols = df.loc[:, 'budd_quote':'real_quote']\n",
    "df['mean_quote_percar'] = quotes_cols.mean(axis=1)\n",
    "df.sample(6)"
   ]
  },
  {
   "cell_type": "markdown",
   "metadata": {},
   "source": [
    "Get average quote per driver"
   ]
  },
  {
   "cell_type": "code",
   "execution_count": 7,
   "metadata": {},
   "outputs": [
    {
     "output_type": "execute_result",
     "data": {
      "text/plain": "           age  gender   mean_quote\nperson_id                          \n1           18  female  4473.064815\n2           18    male  5417.351852\n3           19  female  3516.472222\n4           19    male  4139.018519\n5           20  female  3104.675926\n...        ...     ...          ...\n160         96    male  3397.111111\n161         97  female  3532.000000\n162         97    male  3419.861111\n163         98  female  3545.833333\n164         98    male  3433.055556\n\n[164 rows x 3 columns]",
      "text/html": "<div>\n<style scoped>\n    .dataframe tbody tr th:only-of-type {\n        vertical-align: middle;\n    }\n\n    .dataframe tbody tr th {\n        vertical-align: top;\n    }\n\n    .dataframe thead th {\n        text-align: right;\n    }\n</style>\n<table border=\"1\" class=\"dataframe\">\n  <thead>\n    <tr style=\"text-align: right;\">\n      <th></th>\n      <th>age</th>\n      <th>gender</th>\n      <th>mean_quote</th>\n    </tr>\n    <tr>\n      <th>person_id</th>\n      <th></th>\n      <th></th>\n      <th></th>\n    </tr>\n  </thead>\n  <tbody>\n    <tr>\n      <th>1</th>\n      <td>18</td>\n      <td>female</td>\n      <td>4473.064815</td>\n    </tr>\n    <tr>\n      <th>2</th>\n      <td>18</td>\n      <td>male</td>\n      <td>5417.351852</td>\n    </tr>\n    <tr>\n      <th>3</th>\n      <td>19</td>\n      <td>female</td>\n      <td>3516.472222</td>\n    </tr>\n    <tr>\n      <th>4</th>\n      <td>19</td>\n      <td>male</td>\n      <td>4139.018519</td>\n    </tr>\n    <tr>\n      <th>5</th>\n      <td>20</td>\n      <td>female</td>\n      <td>3104.675926</td>\n    </tr>\n    <tr>\n      <th>...</th>\n      <td>...</td>\n      <td>...</td>\n      <td>...</td>\n    </tr>\n    <tr>\n      <th>160</th>\n      <td>96</td>\n      <td>male</td>\n      <td>3397.111111</td>\n    </tr>\n    <tr>\n      <th>161</th>\n      <td>97</td>\n      <td>female</td>\n      <td>3532.000000</td>\n    </tr>\n    <tr>\n      <th>162</th>\n      <td>97</td>\n      <td>male</td>\n      <td>3419.861111</td>\n    </tr>\n    <tr>\n      <th>163</th>\n      <td>98</td>\n      <td>female</td>\n      <td>3545.833333</td>\n    </tr>\n    <tr>\n      <th>164</th>\n      <td>98</td>\n      <td>male</td>\n      <td>3433.055556</td>\n    </tr>\n  </tbody>\n</table>\n<p>164 rows × 3 columns</p>\n</div>"
     },
     "metadata": {},
     "execution_count": 7
    }
   ],
   "source": [
    "# Create a series with the mean of all quotes for each driver\n",
    "mean_quote_bydriver = df.groupby('person_id')['mean_quote_percar'].mean()\n",
    "# Remove columns we no longer need\n",
    "cols_to_drop = ['name', 'car_id', 'budd_quote', 'hudd_quote', 'wool_quote', 'real_quote', 'mean_quote_percar']\n",
    "df.drop(cols_to_drop, axis=1, inplace=True)\n",
    "# Remove duplicate rows from dataframe, leaving just 1 row per person\n",
    "df.drop_duplicates(subset='person_id', keep='first', inplace=True)\n",
    "# Set the index to the person id\n",
    "df.set_index('person_id', inplace=True)\n",
    "# Add the mean quotes to the dataframe\n",
    "df['mean_quote'] = mean_quote_bydriver\n",
    "df"
   ]
  },
  {
   "cell_type": "code",
   "execution_count": 9,
   "metadata": {},
   "outputs": [],
   "source": [
    "df.to_csv('data/quotesByAgeGender.csv')"
   ]
  }
 ],
 "metadata": {
  "language_info": {
   "codemirror_mode": {
    "name": "ipython",
    "version": 3
   },
   "file_extension": ".py",
   "mimetype": "text/x-python",
   "name": "python",
   "nbconvert_exporter": "python",
   "pygments_lexer": "ipython3",
   "version": "3.8.2-final"
  },
  "orig_nbformat": 2,
  "kernelspec": {
   "name": "python38232bit81db96c73f824c5c964f3dba8b451eb0",
   "display_name": "Python 3.8.2 32-bit"
  }
 },
 "nbformat": 4,
 "nbformat_minor": 2
}